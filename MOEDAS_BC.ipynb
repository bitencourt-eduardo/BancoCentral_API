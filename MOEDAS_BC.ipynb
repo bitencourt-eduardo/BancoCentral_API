{
 "cells": [
  {
   "attachments": {},
   "cell_type": "markdown",
   "metadata": {},
   "source": [
    "# API do Banco Central\n",
    "\n",
    "https://dadosabertos.bcb.gov.br/dataset?res_format=API"
   ]
  },
  {
   "cell_type": "code",
   "execution_count": null,
   "metadata": {},
   "outputs": [],
   "source": [
    "!pip install requests"
   ]
  },
  {
   "cell_type": "code",
   "execution_count": null,
   "metadata": {},
   "outputs": [],
   "source": [
    "import requests"
   ]
  },
  {
   "cell_type": "code",
   "execution_count": null,
   "metadata": {},
   "outputs": [],
   "source": [
    "link = \"https://olinda.bcb.gov.br/olinda/servico/mecir_dinheiro_em_circulacao/versao/v1/odata/informacoes_diarias?$top=100&$format=json\"\n",
    "requisicao = requests.get(link)"
   ]
  },
  {
   "cell_type": "code",
   "execution_count": null,
   "metadata": {},
   "outputs": [],
   "source": [
    "informacoes = requisicao.json()\n",
    "print(informacoes)\n"
   ]
  },
  {
   "cell_type": "code",
   "execution_count": null,
   "metadata": {},
   "outputs": [],
   "source": [
    "import pprint\n",
    "\n",
    "pprint.pprint(informacoes)"
   ]
  },
  {
   "cell_type": "code",
   "execution_count": null,
   "metadata": {},
   "outputs": [],
   "source": [
    "import pandas as pd\n",
    "\n",
    "tabela = pd.DataFrame(informacoes[\"value\"])"
   ]
  },
  {
   "cell_type": "code",
   "execution_count": null,
   "metadata": {},
   "outputs": [],
   "source": [
    "display(tabela)\n"
   ]
  },
  {
   "cell_type": "code",
   "execution_count": null,
   "metadata": {},
   "outputs": [],
   "source": [
    "# pegar todas as informações com várias requisições\n",
    "tabela_final = pd.DataFrame()\n",
    "top = 100\n",
    "skip = 0\n",
    "\n",
    "while True:\n",
    "    \n",
    "    link = f'https://olinda.bcb.gov.br/olinda/servico/mecir_dinheiro_em_circulacao/versao/v1/odata/informacoes_diarias?$top=10000&$skip={skip}&$format=json'\n",
    "    requesicao = requests.get(link)\n",
    "    informacoes = requesicao.json()\n",
    "    tabela = pd.DataFrame(informacoes['value'])\n",
    "    if len(informacoes['value']) < 1:\n",
    "        break\n",
    "    tabela_final = pd.concat([tabela_final, tabela])\n",
    "    skip += 10000\n",
    "\n",
    "display(tabela_final)"
   ]
  },
  {
   "cell_type": "code",
   "execution_count": null,
   "metadata": {},
   "outputs": [],
   "source": [
    "tabela_final = pd.DataFrame()\n",
    "top = 10000\n",
    "skip = 0\n",
    "\n",
    "while True:\n",
    "    \n",
    "    link = f'https://olinda.bcb.gov.br/olinda/servico/mecir_dinheiro_em_circulacao/versao/v1/odata/informacoes_diarias?$top={top}&$skip={skip}&$format=json'\n",
    "    requesicao = requests.get(link)\n",
    "    informacoes = requesicao.json()\n",
    "    tabela = pd.DataFrame(informacoes['value'])\n",
    "    if len(informacoes['value']) < 1:\n",
    "        break\n",
    "    tabela_final = pd.concat([tabela_final, tabela])\n",
    "    skip += top\n",
    "\n",
    "display(tabela_final)"
   ]
  },
  {
   "cell_type": "code",
   "execution_count": null,
   "metadata": {},
   "outputs": [],
   "source": []
  }
 ],
 "metadata": {
  "kernelspec": {
   "display_name": "Python 3",
   "language": "python",
   "name": "python3"
  },
  "language_info": {
   "codemirror_mode": {
    "name": "ipython",
    "version": 3
   },
   "file_extension": ".py",
   "mimetype": "text/x-python",
   "name": "python",
   "nbconvert_exporter": "python",
   "pygments_lexer": "ipython3",
   "version": "3.10.5"
  },
  "orig_nbformat": 4,
  "vscode": {
   "interpreter": {
    "hash": "aee8b7b246df8f9039afb4144a1f6fd8d2ca17a180786b69acc140d282b71a49"
   }
  }
 },
 "nbformat": 4,
 "nbformat_minor": 2
}
